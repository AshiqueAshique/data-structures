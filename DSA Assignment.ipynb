{
 "cells": [
  {
   "cell_type": "markdown",
   "id": "bea41905",
   "metadata": {},
   "source": [
    "# dsa assignment"
   ]
  },
  {
   "cell_type": "markdown",
   "id": "041eef47",
   "metadata": {},
   "source": [
    " 1. Write a program to find all pairs of an integer array whose sum is equal to a given number?"
   ]
  },
  {
   "cell_type": "code",
   "execution_count": 15,
   "id": "8084e2f0",
   "metadata": {},
   "outputs": [],
   "source": [
    "def find_sum(target, arr):\n",
    "    for i in range(len(arr)):\n",
    "        for j in range(0, len(arr)):\n",
    "            if (arr[i] + arr[j] == target):\n",
    "                    print(\"(\",arr[i],\",\", arr[j],\")\")\n",
    "                    "
   ]
  },
  {
   "cell_type": "code",
   "execution_count": 16,
   "id": "3762a47a",
   "metadata": {},
   "outputs": [
    {
     "name": "stdout",
     "output_type": "stream",
     "text": [
      "( 1 , 4 )\n",
      "( 2 , 3 )\n",
      "( 3 , 2 )\n",
      "( 4 , 1 )\n"
     ]
    }
   ],
   "source": [
    "arr = [1,2,3,4,5]\n",
    "target = 5\n",
    "a = find_sum(target,arr)\n",
    "a"
   ]
  },
  {
   "cell_type": "markdown",
   "id": "21a89a79",
   "metadata": {},
   "source": [
    "2.  Write a program to reverse an array in place? In place means you cannot create a new array. You have to update the original array."
   ]
  },
  {
   "cell_type": "code",
   "execution_count": 17,
   "id": "642a3f7c",
   "metadata": {},
   "outputs": [],
   "source": [
    "\"\"\"[1,2,3,4,5] = [5,4,3,2,1]\"\"\"\n",
    "\n",
    "x = [1,2,3,4,5]\n",
    "x.reverse()"
   ]
  },
  {
   "cell_type": "code",
   "execution_count": 18,
   "id": "e2963f07",
   "metadata": {},
   "outputs": [
    {
     "data": {
      "text/plain": [
       "[5, 4, 3, 2, 1]"
      ]
     },
     "execution_count": 18,
     "metadata": {},
     "output_type": "execute_result"
    }
   ],
   "source": [
    "x"
   ]
  },
  {
   "cell_type": "code",
   "execution_count": 21,
   "id": "5a7ec9d8",
   "metadata": {},
   "outputs": [
    {
     "data": {
      "text/plain": [
       "[5, 4, 3, 2, 1]"
      ]
     },
     "execution_count": 21,
     "metadata": {},
     "output_type": "execute_result"
    }
   ],
   "source": [
    "\"\"\"\n",
    "1 . Initialize start and end indexes as 0 and n+1.\n",
    "2 . swap arr[start] with arr[end] during iteration.\n",
    "3 . Increment value of start and decrement value of end.\n",
    "\"\"\"\n",
    "\n",
    "def reverse_an_array(arr,start, end):\n",
    "    while start < end:\n",
    "        arr[start], arr[end] = arr[end], arr[start]\n",
    "        start += 1\n",
    "        end -= 1\n",
    "    return arr\n",
    "li = [1,2,3,4,5]\n",
    "reverse_an_array(li, 0, 4)\n",
    "        \n",
    "        "
   ]
  },
  {
   "cell_type": "markdown",
   "id": "2e0954f4",
   "metadata": {},
   "source": [
    "3. Write a program to check if two strings are a rotation of each other?"
   ]
  },
  {
   "cell_type": "code",
   "execution_count": 33,
   "id": "f20e76d2",
   "metadata": {},
   "outputs": [],
   "source": [
    "\"\"\"\n",
    "1. Create a temp string adn concatenate str1 to str1 and store in temp.\n",
    "2. If str2 is a substring of temp, then str1 and str2 are rotational stings\n",
    "\"\"\"\n",
    "\n",
    "def rotational_string(str1,str2):\n",
    "    temp = str1 + str1\n",
    "    if len(str1) == len(str2):\n",
    "        if str2 in temp:\n",
    "            print(\"Since str2 is a substring of temp, str1 and str2 are rotations of each other.\")\n",
    "        else:\n",
    "            print(\"Since str2 is not a substring of temp, str1 and str2 ar not rotations of each other\")\n",
    "        "
   ]
  },
  {
   "cell_type": "code",
   "execution_count": 34,
   "id": "67118204",
   "metadata": {},
   "outputs": [
    {
     "name": "stdout",
     "output_type": "stream",
     "text": [
      "Since str2 is not a substring of temp, str1 and str2 ar not rotations of each other\n"
     ]
    }
   ],
   "source": [
    "str1 = 'ABCD'\n",
    "str2 = 'ACBD'\n",
    "s = rotational_string(str1, str2)\n",
    "s"
   ]
  },
  {
   "cell_type": "markdown",
   "id": "d709b3d3",
   "metadata": {},
   "source": [
    "4. Write a program to print the first non-repeated character from a string?"
   ]
  },
  {
   "cell_type": "code",
   "execution_count": 46,
   "id": "aba9ebe6",
   "metadata": {},
   "outputs": [],
   "source": [
    "def non_repeated(str):\n",
    "    #creating hash table to store count of each charecter in the string\n",
    "    count = [0 for i in range(256)]\n",
    "    \n",
    "    #iterating thorugh the string to get the counts of charecters.\n",
    "    for ch in str:\n",
    "        count[ord(ch)] += 1\n",
    "    #iterating to return the charecter with count == 1.\n",
    "    for i in range(len(str)):\n",
    "        if (count[ord(str[i])] == 1):\n",
    "            return str[i]\n",
    "        \n",
    "    else:\n",
    "        return \"There is no non-repeating charecters\""
   ]
  },
  {
   "cell_type": "code",
   "execution_count": 47,
   "id": "d0a9ec3b",
   "metadata": {},
   "outputs": [
    {
     "data": {
      "text/plain": [
       "'y'"
      ]
     },
     "execution_count": 47,
     "metadata": {},
     "output_type": "execute_result"
    }
   ],
   "source": [
    "str = \"malayalam\"\n",
    "rp = non_repeated(str)\n",
    "rp"
   ]
  },
  {
   "cell_type": "markdown",
   "id": "56136f41",
   "metadata": {},
   "source": [
    "5. Read about the Tower of Hanoi algorithm. Write a program to implement it."
   ]
  },
  {
   "cell_type": "code",
   "execution_count": 49,
   "id": "c3b50ae8",
   "metadata": {},
   "outputs": [],
   "source": [
    "def toh(n, fromm,to,aux):\n",
    "    if n == 1:\n",
    "        print(\"move disk\" + str(n) + \"from rod \" + str(fromm) + \"to rod \" + str(to))\n",
    "        return \n",
    "    moves = 0\n",
    "    moves += toh(n - 1,fromm, aux, to)\n",
    "    moves += 1\n",
    "    \n",
    "    print(\"Move disk\" + str(n) + \"from rod\" + str(fromm) + \"to rod\" + str(to))\n",
    "    moves += toh(n-1, aux, to, fromm)\n",
    "    \n",
    "    return moves\n",
    "    "
   ]
  },
  {
   "cell_type": "markdown",
   "id": "c1bc4eea",
   "metadata": {},
   "source": [
    "6. Read about infix, prefix, and postfix expressions. Write a program to convert postfix to prefix expression."
   ]
  },
  {
   "cell_type": "code",
   "execution_count": 53,
   "id": "d213ed1f",
   "metadata": {},
   "outputs": [
    {
     "name": "stdout",
     "output_type": "stream",
     "text": [
      "AB+CD-*\n"
     ]
    }
   ],
   "source": [
    "\"\"\"\n",
    "Prefix : operators occur before the operands\n",
    "Postfix : operators occur after the operands\n",
    "\"\"\"\n",
    "\n",
    "str = \"*+AB-CD\"\n",
    "\n",
    "str = str[::-1]\n",
    "operators = set(['+','-','*','/','^'])\n",
    "\n",
    "li = []\n",
    "\n",
    "for i in str:\n",
    "    if i in operators:\n",
    "        a = li.pop()\n",
    "        b = li.pop()\n",
    "        \n",
    "        temp = a + b + i\n",
    "        li.append(temp)\n",
    "        \n",
    "    else:\n",
    "        li.append(i)\n",
    "        \n",
    "print(*li)\n",
    "        "
   ]
  },
  {
   "cell_type": "markdown",
   "id": "05bc7d91",
   "metadata": {},
   "source": [
    "7.Write a program to convert prefix expression to infix expression."
   ]
  },
  {
   "cell_type": "code",
   "execution_count": 54,
   "id": "cc9ba87c",
   "metadata": {},
   "outputs": [
    {
     "name": "stdout",
     "output_type": "stream",
     "text": [
      "A+B*C-D\n"
     ]
    }
   ],
   "source": [
    "str = \"*+AB-CD\"\n",
    "str = str[::-1]\n",
    "\n",
    "operators = set(['+', '-', '*', '/', '^'])\n",
    "\n",
    "li = []\n",
    "\n",
    "for i in str:\n",
    "    if i in operators:\n",
    "        a = li.pop()\n",
    "        b = li.pop()\n",
    "        \n",
    "        temp = a + i + b\n",
    "        li.append(temp)\n",
    "        \n",
    "    else:\n",
    "        li.append(i)\n",
    "        \n",
    "print(*li)"
   ]
  },
  {
   "cell_type": "markdown",
   "id": "3d7583e7",
   "metadata": {},
   "source": [
    "8 . Write a program to check if all the brackets are closed in a given code snippet."
   ]
  },
  {
   "cell_type": "code",
   "execution_count": 59,
   "id": "af99f96f",
   "metadata": {},
   "outputs": [],
   "source": [
    "def brackets(str):\n",
    "    li = []\n",
    "    count = 0\n",
    "    for i in str:\n",
    "        if i in [\"(\", \"{\", \"[\"]:\n",
    "            li.append(i)\n",
    "        elif i in [\")\",\"}\",\"]\"]:\n",
    "            popped_i = li.pop()\n",
    "            if match(popped_i,i):\n",
    "                count += 1\n",
    "    return count\n",
    "                \n",
    "def match(popped, current):\n",
    "    if popped == '(' and current == ')':\n",
    "        return True\n",
    "    if popped == '{' and current == '}':\n",
    "        return True\n",
    "    if popped == '[' and current == ']':\n",
    "        return True\n",
    "    return False\n",
    "\n",
    "    \n",
    "            "
   ]
  },
  {
   "cell_type": "code",
   "execution_count": 61,
   "id": "9d710495",
   "metadata": {},
   "outputs": [
    {
     "data": {
      "text/plain": [
       "4"
      ]
     },
     "execution_count": 61,
     "metadata": {},
     "output_type": "execute_result"
    }
   ],
   "source": [
    "brackets('{([])}()')"
   ]
  },
  {
   "cell_type": "markdown",
   "id": "68cf8974",
   "metadata": {},
   "source": [
    "9 . Write a program to reverse a stack"
   ]
  },
  {
   "cell_type": "code",
   "execution_count": 66,
   "id": "439faedb",
   "metadata": {},
   "outputs": [],
   "source": [
    "def bottom_insert(li, value):\n",
    "    li = []\n",
    "    if len(li) == 0:\n",
    "        # if stak is empty push the value in to the stack\n",
    "        li.append(value)\n",
    "        #if not empty execute the else statement\n",
    "    else:\n",
    "        #remove the element and store it in popped\n",
    "        popped = li.pop()\n",
    "        \n",
    "        #recursive call by passing li and value as argument\n",
    "        bottom_insert(li, value)\n",
    "        #push the popped value into li\n",
    "        li.append(popped)\n",
    "    return li\n",
    "def reverse(li):\n",
    "    if len(li) == 0:\n",
    "        pass\n",
    "    else:\n",
    "        popped = li.pop()\n",
    "        \n",
    "        reverse(li)\n",
    "        \n",
    "        bottom_insert(li, popped)"
   ]
  },
  {
   "cell_type": "code",
   "execution_count": 68,
   "id": "ae065476",
   "metadata": {},
   "outputs": [],
   "source": [
    "l = reverse([10,20,30])\n",
    "l"
   ]
  },
  {
   "cell_type": "code",
   "execution_count": null,
   "id": "a591b71d",
   "metadata": {},
   "outputs": [],
   "source": []
  }
 ],
 "metadata": {
  "kernelspec": {
   "display_name": "Python 3",
   "language": "python",
   "name": "python3"
  },
  "language_info": {
   "codemirror_mode": {
    "name": "ipython",
    "version": 3
   },
   "file_extension": ".py",
   "mimetype": "text/x-python",
   "name": "python",
   "nbconvert_exporter": "python",
   "pygments_lexer": "ipython3",
   "version": "3.8.8"
  }
 },
 "nbformat": 4,
 "nbformat_minor": 5
}
